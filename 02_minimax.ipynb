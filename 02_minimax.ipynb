{
 "cells": [
  {
   "cell_type": "markdown",
   "metadata": {},
   "source": [
    "# MiniMax algoritmus - a tökéletesen játszó robot\n",
    "* Megnézzük, mi az a MiniMax algoritmus?\n",
    "* Megértjük, miért játszik tökéletesen."
   ]
  },
  {
   "cell_type": "code",
   "execution_count": 1,
   "metadata": {},
   "outputs": [
    {
     "name": "stdout",
     "output_type": "stream",
     "text": [
      "   0  1  2\n",
      "0  o  x  o\n",
      "1  x  x  x\n",
      "2  o  o  x\n",
      "X nyert\n"
     ]
    }
   ],
   "source": [
    "from IPython.display import HTML, display\n",
    "from tic_tac_toe.Tabla import Tabla, JatekEredmeny, X, O, URES\n",
    "from tic_tac_toe.util import mutasd_meg, play_game, elo_jatek\n",
    "from tic_tac_toe.VeletlentLepoRobot import VeletlentLepoRobot\n",
    "\n",
    "tabla = Tabla()\n",
    "player1 = VeletlentLepoRobot()\n",
    "player2 = VeletlentLepoRobot()\n",
    "\n",
    "result = play_game(tabla, player1, player2)\n",
    "mutasd_meg(tabla)\n",
    "\n",
    "if result == JatekEredmeny.X_NYERT:\n",
    "    print(\"X nyert\")\n",
    "elif result == JatekEredmeny.O_NYERT:\n",
    "    print(\"O nyert\")\n",
    "else:\n",
    "    print(\"Döntetlen\")"
   ]
  },
  {
   "cell_type": "markdown",
   "metadata": {},
   "source": [
    "## Mi az a minimax algoritmus?\n",
    "\n",
    "Röviden:  \n",
    "Egy statisztikában, játékelméletben használatos döntési szabály / döntési elv.\n",
    "Két szempontra épül, mi alapján döntünk egy lépés mellett:\n",
    "* minimalizáljuk a maximális veszteséget\n",
    "* maximalizáljuk a minimális nyereséget"
   ]
  },
  {
   "cell_type": "code",
   "execution_count": null,
   "metadata": {},
   "outputs": [],
   "source": [
    "pelda_allas = Tabla([X   , URES  , X,\n",
    "                     O   , O     , X,\n",
    "                     URES, URES  , O])\n",
    "mutasd_meg(pelda_allas)"
   ]
  },
  {
   "cell_type": "markdown",
   "metadata": {},
   "source": []
  },
  {
   "cell_type": "markdown",
   "metadata": {},
   "source": [
    "### Lehetséges folytatások (O következik)"
   ]
  },
  {
   "cell_type": "markdown",
   "metadata": {},
   "source": [
    "![title](./Images/TicTacToe-MinMax-Example1.png)"
   ]
  },
  {
   "cell_type": "markdown",
   "metadata": {},
   "source": [
    "### Felváltva lépünk, az én körömben maximalizálni szeretném a legrosszabb lépésem értékét, az ellenfél körében azt figyelem, hogy a lehető legrosszabb legyen a legjobb lépése:\n",
    "![title](./Images/TicTacToe-MinMax-Example2.png)"
   ]
  },
  {
   "cell_type": "markdown",
   "metadata": {},
   "source": [
    "Miután végigpásztáztuk a lehetséges folytatásokat, felcímkézzük a befejezett játékokat (ágakat) a saját szempontunkból (O-val vagyunk)\n",
    "* 1 pont a győzelem\n",
    "* -1 pont a veszteség\n",
    "* 0 pont döntetlenért\n",
    "\n",
    "![title](./Images/TicTacToe-MinMax-Example3.png)"
   ]
  },
  {
   "cell_type": "markdown",
   "metadata": {},
   "source": [
    "Most pedig a MiniMax elv alapján \"alulról felfelé\" elkezdjük a számokat \"felvinni\" a középső sorba\n",
    "\n",
    "![title](./Images/TicTacToe-MinMax-Example4.png)"
   ]
  },
  {
   "cell_type": "markdown",
   "metadata": {},
   "source": [
    "Ismételjük a folyamatot, most a középső sorból a felső sorba visszük a számokat. Előző körben Maximalizáltunk, most Minimalizálni szeretnénk (mert ez az ellenfél köre)\n",
    "\n",
    "![title](./Images/TicTacToe-MinMax-Example5.png)"
   ]
  },
  {
   "cell_type": "markdown",
   "metadata": {},
   "source": [
    "Végül, a legfelső réteggel is ismételjük. Megint a maximum értékkel dolgozunk, mert ez a mi körünk\n",
    "\n",
    "![title](./Images/TicTacToe-MinMax-Example6.png)"
   ]
  },
  {
   "cell_type": "markdown",
   "metadata": {},
   "source": [
    "Megvan minden információ ahhoz, hogy tudjunk dönteni a lépések között:\n",
    "\n",
    "* A legjobb kimenetel döntetlen, ha mindkét fél jól játszik (felső sorban a legnagyobb szám 0)\n",
    "\n",
    "* A lehetőségek közül csak egy van, ami 0-hoz, azaz döntetlenhez vezet, ezért kénytelenek vagyunk azt lépni"
   ]
  },
  {
   "cell_type": "markdown",
   "metadata": {
    "collapsed": true
   },
   "source": [
    "## Próbáljuk ki működés közben\n",
    "Két MiniMaxot használó robot programja már meg van írva a fentiek alapján:\n",
    "* MiniMaxRobot: a fenti logikát alkalmazza, ha több azonos értékű lépés is van, az elsőt választja\n",
    "* MiniMaxRobot2: a fenti logikát alkalmazza, ha több azonos értékű lépés is van, véletlenszerűen választ\n",
    "\n",
    "Nézzünk meg egy-egy meccset, aztán versenyeztessük őket sok játékon át."
   ]
  },
  {
   "cell_type": "markdown",
   "metadata": {},
   "source": [
    "## MiniMaxRobot(X) vs. VéletlentLépő Robot(O)"
   ]
  },
  {
   "cell_type": "code",
   "execution_count": null,
   "metadata": {},
   "outputs": [],
   "source": [
    "from tic_tac_toe.MiniMaxRobot import MiniMaxRobot\n",
    "from tic_tac_toe.VeletlentLepoRobot import VeletlentLepoRobot\n",
    "from util import mutasd_meg, play_game, elo_jatek\n",
    "\n",
    "elo_jatek(Tabla(), MiniMaxRobot(), VeletlentLepoRobot())"
   ]
  },
  {
   "cell_type": "code",
   "execution_count": null,
   "metadata": {},
   "outputs": [],
   "source": [
    "from tic_tac_toe.Jatekos import Jatekos\n",
    "from ipywidgets import IntProgress\n",
    "from IPython.display import display\n",
    "\n",
    "\n",
    "\n",
    "def versenyezzenek_hatterben(player1: Jatekos, player2: Jatekos, num_games: int = 1000):\n",
    "    f = IntProgress(min=0, max=num_games)\n",
    "    display(f)\n",
    "    tabla = Tabla()\n",
    "    draw_count = 0\n",
    "    cross_count = 0\n",
    "    naught_count = 0\n",
    "    for _ in range(num_games):\n",
    "        f.value += 1\n",
    "        result = play_game(tabla, player1, player2)\n",
    "        if result == JatekEredmeny.X_NYERT:\n",
    "            cross_count += 1\n",
    "        elif result == JatekEredmeny.O_NYERT:\n",
    "            naught_count += 1\n",
    "        else:\n",
    "            draw_count += 1\n",
    "\n",
    "    print(\"{} játék után döntetlen: {}, X nyert: {}, és O nyert: {}.\".format(num_games, draw_count,\n",
    "                                                                                         cross_count, naught_count))\n",
    "\n",
    "    print(\"Arányokban: döntetlen: {:.2%}, X: {:.2%}, O:  {:.2%}\".format(\n",
    "        draw_count / num_games, cross_count / num_games, naught_count / num_games))"
   ]
  },
  {
   "cell_type": "markdown",
   "metadata": {},
   "source": [
    "versenyeztessük a MiniMax és a Véletlent Lépő robotot sokszor, és megszámoljuk ki hányszor nyer!"
   ]
  },
  {
   "cell_type": "code",
   "execution_count": null,
   "metadata": {},
   "outputs": [],
   "source": [
    "from tic_tac_toe.MiniMaxRobot import MiniMaxRobot\n",
    "\n",
    "versenyezzenek_hatterben(MiniMaxRobot(), VeletlentLepoRobot())"
   ]
  },
  {
   "cell_type": "markdown",
   "metadata": {
    "collapsed": true
   },
   "source": [
    "Most fordítva, a Véletlent lépő kezd!"
   ]
  },
  {
   "cell_type": "code",
   "execution_count": null,
   "metadata": {},
   "outputs": [],
   "source": [
    "versenyezzenek_hatterben(VeletlentLepoRobot(), MiniMaxRobot())"
   ]
  },
  {
   "cell_type": "markdown",
   "metadata": {},
   "source": [
    "A két MiniMax típusú játékos egymás ellen"
   ]
  },
  {
   "cell_type": "code",
   "execution_count": null,
   "metadata": {},
   "outputs": [],
   "source": [
    "from tic_tac_toe.MiniMaxRobot2 import MiniMaxRobot2\n",
    "\n",
    "versenyezzenek_hatterben(MiniMaxRobot(), MiniMaxRobot2())"
   ]
  },
  {
   "cell_type": "markdown",
   "metadata": {},
   "source": [
    "## Kérdés\n",
    "\n",
    "Mennyire intelligens a MiniMax játékos?"
   ]
  }
 ],
 "metadata": {
  "kernelspec": {
   "display_name": "Python 3 (ipykernel)",
   "language": "python",
   "name": "python3"
  },
  "language_info": {
   "codemirror_mode": {
    "name": "ipython",
    "version": 3
   },
   "file_extension": ".py",
   "mimetype": "text/x-python",
   "name": "python",
   "nbconvert_exporter": "python",
   "pygments_lexer": "ipython3",
   "version": "3.8.10"
  }
 },
 "nbformat": 4,
 "nbformat_minor": 2
}
