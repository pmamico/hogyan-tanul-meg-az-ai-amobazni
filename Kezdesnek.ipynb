{
 "cells": [
  {
   "cell_type": "markdown",
   "metadata": {},
   "source": [
    "# Mi is ez a Jupyter jegyzet? :)\n",
    "\n",
    "\n",
    "\n",
    "\n",
    "Formázott szöveget és futtatható programrészleteket vegyesen találunk itt!  \n",
    "Tudjuk módosítani, írni a kódokat, alá-fölé jegyezetelni, videókat beilleszteni.  \n",
    "Kísérletezni, tanulni szokták használni.  \n",
    "A mentett jegyzetet bármikor elolvashatod, viszont a programok futtatásához egy csomó dolgot telepíteni kell! (programnyelv, kiegészítők)\n",
    "\n"
   ]
  },
  {
   "cell_type": "markdown",
   "metadata": {},
   "source": [
    "## Ez egy program doboz\n"
   ]
  },
  {
   "cell_type": "code",
   "execution_count": 1,
   "metadata": {},
   "outputs": [
    {
     "data": {
      "text/plain": [
       "7"
      ]
     },
     "execution_count": 1,
     "metadata": {},
     "output_type": "execute_result"
    }
   ],
   "source": [
    "5+2"
   ]
  },
  {
   "cell_type": "markdown",
   "metadata": {},
   "source": [
    "az ilyen dobozokban python programokkal fogunk találkozni;  \n",
    "nem tudod miről van szó? nem baj! a lényeg, hogy ezek \"futtathatóak\", aminek mindig lesz egy \"eredménye\", \"kimenete\", amit a doboz alá ki fog írni a program"
   ]
  },
  {
   "cell_type": "markdown",
   "metadata": {},
   "source": [
    "## Próbálj meg beilleszteni ez alá egy új program dobozt!\n",
    "fent keresd a + jelet, \"insert a cell below\"  \n",
    "írj be egy szorzást, osztást, vagy más alapműveletet, és próbáld meg futtatni!\n"
   ]
  },
  {
   "cell_type": "markdown",
   "metadata": {},
   "source": [
    "## Ez pedig egy kép doboz\n",
    "\n",
    "![title](./Images/TicTacToe-MinMax-Example1.png)"
   ]
  },
  {
   "cell_type": "markdown",
   "metadata": {},
   "source": [
    "\n",
    "Ez egy előkészített terep, amit ma tudsz futtatni is.  \n",
    "Visszaolvasni később is fogod tudni, de az programozásra nem lesz alkalmas.  \n",
    "Ha ez érdekel, kérd egy programozó ismerősöd segítségét, vagy írj nekem! :) (miklos.papp@guidance.hu)\n"
   ]
  }
 ],
 "metadata": {
  "kernelspec": {
   "display_name": "Python 3 (ipykernel)",
   "language": "python",
   "name": "python3"
  },
  "language_info": {
   "codemirror_mode": {
    "name": "ipython",
    "version": 3
   },
   "file_extension": ".py",
   "mimetype": "text/x-python",
   "name": "python",
   "nbconvert_exporter": "python",
   "pygments_lexer": "ipython3",
   "version": "3.8.10"
  }
 },
 "nbformat": 4,
 "nbformat_minor": 2
}
