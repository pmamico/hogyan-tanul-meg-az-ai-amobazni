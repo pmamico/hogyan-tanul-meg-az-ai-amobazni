{
 "cells": [
  {
   "cell_type": "markdown",
   "source": [
    "# Hogyan tanul meg az AI amőbázni?\n",
    "\n",
    "A [\"Formáld a világod!\"](https://verseny.c3.hu/) verseny kapcsán az egyik workshop interaktív anyagrésze.\n",
    "Megnézzük, egy számítógépes ellenfél működését, és hogy mitől lesz az intelligens.\n",
    "\n",
    "## Tartalom\n",
    "\n",
    "[Jupyter notebook ismerkedés](Kezdesnek.ipynb)\n",
    "[I. Véletlent lépő robot](01_veletlent_lepo_robot.ipynb)\n",
    "[II. MiniMax algoritmus](02_minimax.ipynb)\n",
    "[III. Megerősítéses tanulás](03_megerositeses_tanulas.ipynb)"
   ],
   "metadata": {
    "collapsed": false
   }
  }
 ],
 "metadata": {
  "kernelspec": {
   "display_name": "Python 3",
   "language": "python",
   "name": "python3"
  },
  "language_info": {
   "codemirror_mode": {
    "name": "ipython",
    "version": 2
   },
   "file_extension": ".py",
   "mimetype": "text/x-python",
   "name": "python",
   "nbconvert_exporter": "python",
   "pygments_lexer": "ipython2",
   "version": "2.7.6"
  }
 },
 "nbformat": 4,
 "nbformat_minor": 0
}
