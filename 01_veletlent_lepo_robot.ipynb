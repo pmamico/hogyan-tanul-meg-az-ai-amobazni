{
 "cells": [
  {
   "cell_type": "markdown",
   "metadata": {},
   "source": [
    "# Amőba program háttere"
   ]
  },
  {
   "cell_type": "markdown",
   "metadata": {},
   "source": [
    "Egy segédprogram, amin keresztül ki tudunk próbálni különböző \"gépi ellenfeleket\"!\n",
    "Ha egyáltalán nem ismerős a programozás, ne aggódj! A lényeg a képeken fog látszani.\n",
    "\n",
    "---\n",
    "\n",
    "## A kódrészekben fontosabb szavak, amikkel találkozhatsz:\n",
    "\n",
    "* `Tabla`: a \"tábla\" állapotát fogjuk így hívni\n",
    "* `JatekEredmeny`: A lehetséges eredmények gyűjtője: `BEFEJEZETLEN`, `DONTETLEN`, `X_NYERT`, vagy `O_NYERT`\n",
    "* `X`, `O`: a táblán helyezhető jelölések, X vagy O. A nem kitöltött mezőkre URES néven is hivatkozunk időnként.\n",
    "* mutasd_meg(tabla): kirajzolja a játékteret, hogy követni tudjuk\n",
    "* tabla.lepj(): egy lépés végrehajtása (X vavgy O elhelyezése)\n"
   ]
  },
  {
   "cell_type": "code",
   "execution_count": 1,
   "metadata": {},
   "outputs": [],
   "source": [
    "from IPython.display import HTML, display, clear_output\n",
    "from tic_tac_toe.Tabla import Tabla, JatekEredmeny, X, O\n",
    "import numpy as np\n",
    "import pandas as pd\n",
    "import time\n",
    "\n",
    "\n",
    "def mutasd_meg(tabla):\n",
    "  clear_output(wait=True)\n",
    "  print(pd.DataFrame(np.array(tabla.state_to_charlist())))"
   ]
  },
  {
   "cell_type": "markdown",
   "metadata": {},
   "source": [
    "egy új játékterületet létre tudunk hozni:"
   ]
  },
  {
   "cell_type": "code",
   "execution_count": 2,
   "metadata": {},
   "outputs": [
    {
     "name": "stdout",
     "output_type": "stream",
     "text": [
      "   0  1  2\n",
      "0         \n",
      "1         \n",
      "2         \n"
     ]
    }
   ],
   "source": [
    "tabla = Tabla()\n",
    "mutasd_meg(tabla)"
   ]
  },
  {
   "cell_type": "markdown",
   "metadata": {},
   "source": [
    "Kód: A táblán lépj egy véletlenszerű üres mezőre X-szel!"
   ]
  },
  {
   "cell_type": "code",
   "execution_count": 3,
   "metadata": {},
   "outputs": [
    {
     "name": "stdout",
     "output_type": "stream",
     "text": [
      "   0  1  2\n",
      "0  x      \n",
      "1         \n",
      "2         \n"
     ]
    }
   ],
   "source": [
    "tabla = Tabla()\n",
    "tabla.lepj(tabla.veletlen_ures_cella(), X)\n",
    "mutasd_meg(tabla)"
   ]
  },
  {
   "cell_type": "markdown",
   "metadata": {},
   "source": [
    "Bővítsük ki: ne egyet lépjünk, hanem addig felváltva véletlenszerűen, amíg vége nincs a játéknak! \n",
    "\n",
    "Először is újrakezdjük a játékot (tabla.torles() ), utána..."
   ]
  },
  {
   "cell_type": "code",
   "execution_count": 4,
   "metadata": {},
   "outputs": [],
   "source": [
    "varakoztatas = 1"
   ]
  },
  {
   "cell_type": "code",
   "execution_count": 5,
   "metadata": {},
   "outputs": [
    {
     "name": "stdout",
     "output_type": "stream",
     "text": [
      "   0  1  2\n",
      "0  x  o  x\n",
      "1  o  x  o\n",
      "2        x\n",
      "X nyert!\n"
     ]
    }
   ],
   "source": [
    "tabla.torles()\n",
    "vege = False\n",
    "while not vege:\n",
    "   mutasd_meg(tabla)\n",
    "   time.sleep(varakoztatas)\n",
    "   _, eredmeny, vege = tabla.lepj(tabla.veletlen_ures_cella(), X)\n",
    "\n",
    "   \n",
    "   mutasd_meg(tabla)\n",
    "   if vege:\n",
    "       if eredmeny == JatekEredmeny.DONTETLEN:\n",
    "           print(\"Döntetlen!\")\n",
    "       else:\n",
    "           print(\"X nyert!\")\n",
    "   else:\n",
    "       time.sleep(varakoztatas)\n",
    "       _, eredmeny, vege = tabla.lepj(tabla.veletlen_ures_cella(), O)\n",
    "       mutasd_meg(tabla)\n",
    "       if vege:\n",
    "            if eredmeny == JatekEredmeny.DONTETLEN:\n",
    "               print(\"Döntetlen\")\n",
    "            else:\n",
    "               print(\"O nyert!\")\n"
   ]
  },
  {
   "cell_type": "markdown",
   "metadata": {},
   "source": [
    "ezt a programot elnevezzük \"play_game\"-nek:"
   ]
  },
  {
   "cell_type": "code",
   "execution_count": 6,
   "metadata": {},
   "outputs": [],
   "source": [
    "from tic_tac_toe.Jatekos import Jatekos\n",
    "\n",
    "\n",
    "def play_game(tabla: Tabla, player1: Jatekos, player2: Jatekos):\n",
    "    player1.uj_jatek(X)\n",
    "    player2.uj_jatek(O)\n",
    "    tabla.torles()\n",
    "    \n",
    "    vege = False\n",
    "    while not vege:\n",
    "        eredmeny, vege = player1.lepj(tabla)\n",
    "        if vege:\n",
    "            if eredmeny == JatekEredmeny.DONTETLEN:\n",
    "                vegeredmeny = JatekEredmeny.DONTETLEN\n",
    "            else:\n",
    "                vegeredmeny =  JatekEredmeny.X_NYERT\n",
    "        else:\n",
    "            eredmeny, vege = player2.lepj(tabla)\n",
    "            if vege:\n",
    "                if eredmeny == JatekEredmeny.DONTETLEN:\n",
    "                    vegeredmeny =  JatekEredmeny.DONTETLEN\n",
    "                else:\n",
    "                    vegeredmeny =  JatekEredmeny.O_NYERT\n",
    "        \n",
    "    player1.vegeredmeny(vegeredmeny)\n",
    "    player2.vegeredmeny(vegeredmeny)\n",
    "    return vegeredmeny\n"
   ]
  },
  {
   "cell_type": "markdown",
   "metadata": {},
   "source": [
    "---\n",
    "\n",
    "# Az első számítógépes játékosunk: Véletlent Lépő Robot"
   ]
  },
  {
   "cell_type": "code",
   "execution_count": 9,
   "metadata": {},
   "outputs": [
    {
     "name": "stdout",
     "output_type": "stream",
     "text": [
      "   0  1  2\n",
      "0  x  x  o\n",
      "1  o  o  x\n",
      "2  x  o  x\n",
      "Döntetlen\n"
     ]
    }
   ],
   "source": [
    "from tic_tac_toe.VeletlentLepoRobot import VeletlentLepoRobot\n",
    "\n",
    "player1 = VeletlentLepoRobot()\n",
    "player2 = VeletlentLepoRobot()\n",
    "eredmeny = play_game(tabla, player1, player2)\n",
    "mutasd_meg(tabla)\n",
    "if eredmeny == JatekEredmeny.X_NYERT:\n",
    "    print(\"X nyert\")\n",
    "elif eredmeny == JatekEredmeny.O_NYERT:\n",
    "    print(\"O nyert\")\n",
    "else:\n",
    "    print(\"Döntetlen\")"
   ]
  },
  {
   "cell_type": "markdown",
   "metadata": {},
   "source": [
    "---\n",
    "\n",
    "# Véletlent Lépő Robot teljesítménye\n",
    "\n",
    "Sok játék után, ha mindkét játékos véletlenszerűen lép, ki szokott nyerni általában?"
   ]
  },
  {
   "cell_type": "code",
   "execution_count": 15,
   "metadata": {},
   "outputs": [
    {
     "data": {
      "application/vnd.jupyter.widget-view+json": {
       "model_id": "dbed467c37f34104b9d6e1df43ede42d",
       "version_major": 2,
       "version_minor": 0
      },
      "text/plain": [
       "IntProgress(value=0, max=1000)"
      ]
     },
     "metadata": {},
     "output_type": "display_data"
    },
    {
     "name": "stdout",
     "output_type": "stream",
     "text": [
      "1000 játszma után döntetlen: 128, X nyert: 563 és O nyert: 309.\n",
      "Arányokban kifejezve döntetlen: 12.80% X nyert: 56.30% O nyert: 30.90%\n"
     ]
    }
   ],
   "source": [
    "from ipywidgets import IntProgress\n",
    "from IPython.display import display\n",
    "\n",
    "jatekok_szama = 1000\n",
    "\n",
    "dontetlenek_szama = 0\n",
    "x_nyert = 0\n",
    "o_nyert = 0\n",
    "\n",
    "egyik_jatekos = VeletlentLepoRobot()\n",
    "masik_jatekos = VeletlentLepoRobot()\n",
    "\n",
    "f = IntProgress(min=0, max=jatekok_szama)\n",
    "display(f)\n",
    "\n",
    "for _ in range(jatekok_szama):\n",
    "    eredmeny = play_game(tabla, egyik_jatekos, masik_jatekos)\n",
    "    if eredmeny == JatekEredmeny.X_NYERT:\n",
    "        x_nyert += 1\n",
    "    elif eredmeny == JatekEredmeny.O_NYERT:\n",
    "        o_nyert += 1\n",
    "    else:\n",
    "        dontetlenek_szama += 1\n",
    "    f.value += 1\n",
    "        \n",
    "print(\"{} játszma után döntetlen: {}, X nyert: {} és O nyert: {}.\".format(jatekok_szama, dontetlenek_szama, \n",
    "                                                                        x_nyert, o_nyert))\n",
    "\n",
    "print(\"Arányokban kifejezve döntetlen: {:.2%}, X nyert: {:.2%} O nyert: {:.2%}\".format(\n",
    "    dontetlenek_szama / jatekok_szama, x_nyert / jatekok_szama, o_nyert / jatekok_szama))"
   ]
  },
  {
   "cell_type": "markdown",
   "metadata": {},
   "source": [
    "---\n",
    "\n",
    "## Összefoglalva\n",
    "\n",
    "Tudjuk, hogy ha mindkét fél mindig tökéleteset lép, mindig döntetlen az eredmény.\n",
    "\n",
    "| Player | P1 Win | P2 Win | Draw |\n",
    "| --- | ---| --- | --- |\n",
    "| Tökéletes | 0%     | 0%     | 100% |\n",
    "| Véletlen lépések  | ?    | ? | ? |"
   ]
  },
  {
   "cell_type": "markdown",
   "metadata": {},
   "source": [
    "## Kérdés\n",
    "\n",
    "* Mennyire \"Mesterséges Intellegencia\" ez a játékos?"
   ]
  }
 ],
 "metadata": {
  "kernelspec": {
   "display_name": "Python 3 (ipykernel)",
   "language": "python",
   "name": "python3"
  },
  "language_info": {
   "codemirror_mode": {
    "name": "ipython",
    "version": 3
   },
   "file_extension": ".py",
   "mimetype": "text/x-python",
   "name": "python",
   "nbconvert_exporter": "python",
   "pygments_lexer": "ipython3",
   "version": "3.8.10"
  }
 },
 "nbformat": 4,
 "nbformat_minor": 1
}
